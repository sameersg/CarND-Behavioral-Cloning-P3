{
 "cells": [
  {
   "cell_type": "code",
   "execution_count": 1,
   "metadata": {},
   "outputs": [
    {
     "name": "stderr",
     "output_type": "stream",
     "text": [
      "Using TensorFlow backend.\n"
     ]
    }
   ],
   "source": [
    "import csv\n",
    "import cv2\n",
    "import numpy as np\n",
    "import matplotlib.pyplot as plt\n",
    "\n",
    "\n",
    "from keras.models import Sequential\n",
    "from keras.layers import Flatten, Dense, Lambda, Cropping2D, Dropout\n",
    "from keras.layers.convolutional import Convolution2D\n",
    "from keras.layers.pooling import MaxPooling2D"
   ]
  },
  {
   "cell_type": "code",
   "execution_count": 2,
   "metadata": {},
   "outputs": [
    {
     "name": "stdout",
     "output_type": "stream",
     "text": [
      "Data loaded\n"
     ]
    }
   ],
   "source": [
    "lines = []\n",
    "\n",
    "with open('data/driving_log.csv') as csvfile:\n",
    "    reader = csv.reader(csvfile)\n",
    "    for line in reader:\n",
    "        lines.append(line)\n",
    "\n",
    "\n",
    "        \n",
    "images = []\n",
    "measurements = []\n",
    "correction = 0.2\n",
    "\n",
    "for line in lines:\n",
    "    for i in range(3):\n",
    "        source_path = line[i]\n",
    "        filename = source_path.split('/')[-1]\n",
    "        #print(filename)\n",
    "        current_path = 'data/IMG/' + filename\n",
    "        #print(current_path)\n",
    "        #image = cv2.imread(current_path)\n",
    "        image = cv2.imread(current_path)[:,:,::-1]  # Read image and convert from BGR to RGB\n",
    "        images.append(image)\n",
    "\n",
    "    measurement = float(line[3])\n",
    "    measurements.append(measurement)\n",
    "    measurements.append(measurement + correction)\n",
    "    measurements.append(measurement - correction)\n",
    "    #print (measurements)\n",
    "\n",
    "\n",
    "\n",
    "print(\"Data loaded\")\n"
   ]
  },
  {
   "cell_type": "code",
   "execution_count": 3,
   "metadata": {},
   "outputs": [
    {
     "name": "stdout",
     "output_type": "stream",
     "text": [
      "Images augumented\n"
     ]
    }
   ],
   "source": [
<<<<<<< HEAD
    "\n",
=======
>>>>>>> origin/master
    "augumented_images, augumented_measurements = [], []\n",
    "\n",
    "for image, measuerement in zip(images, measurements):\n",
    "    augumented_images.append(image)\n",
    "    augumented_measurements.append(measuerement)\n",
    "    augumented_images.append(cv2.flip(image,1))\n",
    "    augumented_measurements.append(measuerement*-1.0)\n",
    "\n",
    "\n",
    "X_train = np.array(augumented_images)\n",
    "y_train = np.array(augumented_measurements)\n",
    "\n",
<<<<<<< HEAD
    "print(\"Images augumented\") "
=======
    "print(\"Images augumented\")"
>>>>>>> origin/master
   ]
  },
  {
   "cell_type": "code",
<<<<<<< HEAD
   "execution_count": 4,
=======
   "execution_count": null,
>>>>>>> origin/master
   "metadata": {},
   "outputs": [
    {
     "name": "stdout",
     "output_type": "stream",
     "text": [
      "Train on 55617 samples, validate on 13905 samples\n",
      "Epoch 1/3\n",
      "55617/55617 [==============================] - 819s - loss: 0.0383 - val_loss: 0.1702\n",
      "Epoch 2/3\n",
<<<<<<< HEAD
      "55617/55617 [==============================] - 678s - loss: 0.0327 - val_loss: 0.1904\n",
      "Epoch 3/3\n",
      "55617/55617 [==============================] - 603s - loss: 0.0290 - val_loss: 0.1855\n"
=======
      "32000/55617 [================>.............] - ETA: 256s - loss: 0.0336"
>>>>>>> origin/master
     ]
    }
   ],
   "source": [
    "\n",
    "model = Sequential()\n",
    "\n",
    "model.add(Lambda(lambda x: (x / 255.0) - 0.5, input_shape=(160,320,3)))\n",
    "model.add(Cropping2D(cropping=((70, 25), (1, 1))))\n",
    "model.add(Convolution2D(24,5,5, subsample=(2,2), activation=\"relu\"))\n",
    "model.add(Convolution2D(36,5,5, subsample=(2,2), activation=\"relu\"))\n",
    "model.add(Convolution2D(48,5,5, subsample=(2,2), activation=\"relu\"))\n",
    "model.add(Convolution2D(64,3,3, activation=\"relu\"))\n",
    "model.add(Convolution2D(64,3,3, activation=\"relu\"))\n",
    "model.add(Flatten())\n",
    "model.add(Dense(100))\n",
    "model.add(Dense(50))\n",
    "model.add(Dense(10))\n",
    "model.add(Dense(1))\n",
    "\n",
    "model.compile(loss='mse', optimizer='adam')\n",
    "history = model.fit(X_train, y_train, validation_split=0.2, shuffle=True, nb_epoch=3, verbose=1)\n",
    "\n",
    "\n",
    "model.save('model.h5')\n"
   ]
  },
  {
   "cell_type": "code",
<<<<<<< HEAD
   "execution_count": 5,
   "metadata": {},
   "outputs": [
    {
     "data": {
      "image/png": "iVBORw0KGgoAAAANSUhEUgAAAYsAAAEWCAYAAACXGLsWAAAABHNCSVQICAgIfAhkiAAAAAlwSFlz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\nYv3/K9FM6gPFvKYAAAAASUVORK5CYII=\n",
      "text/plain": [
       "<matplotlib.figure.Figure at 0x117e6e198>"
      ]
     },
     "metadata": {},
     "output_type": "display_data"
    }
   ],
=======
   "execution_count": null,
   "metadata": {
    "collapsed": true
   },
   "outputs": [],
>>>>>>> origin/master
   "source": [
    "\n",
    "# Output visualization\n",
    "plt.plot(history.history['loss'])\n",
    "plt.plot(history.history['val_loss'])\n",
    "plt.title('Model MSE loss')\n",
    "plt.ylabel('MSE loss')\n",
    "plt.xlabel('Epoch')\n",
    "plt.legend(['Training set', 'Validation set'], loc='upper right')\n",
    "plt.show()\n"
   ]
<<<<<<< HEAD
  },
  {
   "cell_type": "code",
   "execution_count": null,
   "metadata": {
    "collapsed": true
   },
   "outputs": [],
   "source": []
=======
>>>>>>> origin/master
  }
 ],
 "metadata": {
  "kernelspec": {
   "display_name": "Python 3",
   "language": "python",
   "name": "python3"
  },
  "language_info": {
   "codemirror_mode": {
    "name": "ipython",
    "version": 3
   },
   "file_extension": ".py",
   "mimetype": "text/x-python",
   "name": "python",
   "nbconvert_exporter": "python",
   "pygments_lexer": "ipython3",
   "version": "3.5.2"
  },
  "widgets": {
   "state": {},
   "version": "1.1.2"
  }
 },
 "nbformat": 4,
 "nbformat_minor": 2
}
