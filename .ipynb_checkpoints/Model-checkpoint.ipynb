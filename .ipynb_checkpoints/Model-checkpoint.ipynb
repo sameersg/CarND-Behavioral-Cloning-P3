{
 "cells": [
  {
   "cell_type": "code",
   "execution_count": 1,
   "metadata": {},
   "outputs": [
    {
     "name": "stderr",
     "output_type": "stream",
     "text": [
      "Using TensorFlow backend.\n"
     ]
    }
   ],
   "source": [
    "import csv\n",
    "import cv2\n",
    "import numpy as np\n",
    "import matplotlib.pyplot as plt\n",
    "import sklearn\n",
    "from keras.models import Sequential\n",
    "from keras.layers import Flatten, Dense, Lambda, Cropping2D, Dropout\n",
    "from keras.layers.convolutional import Convolution2D\n",
    "from keras.layers.pooling import MaxPooling2D\n",
    "from sklearn.model_selection import train_test_split"
   ]
  },
  {
   "cell_type": "code",
   "execution_count": 2,
   "metadata": {
    "collapsed": true
   },
   "outputs": [],
   "source": [
    "lines = []\n",
    "images = []\n",
    "measurements = []\n",
    "correction = 0.2\n",
    "\n",
    "#Reading CSV File\n",
    "with open('data/driving_log.csv') as csvfile:\n",
    "    reader = csv.reader(csvfile)\n",
    "    for line in reader:\n",
    "        lines.append(line)\n",
    "\n",
    "    \n",
    "# Data Split #Validation 20% \n",
    "train_samples, validation_samples = train_test_split(lines, test_size=0.2)\n",
    "\n",
    "#Using generator to avoid storing the whole data in memory. \n",
    "def generator(samples):\n",
    "    while 1: # Loop forever \n",
    "        sklearn.utils.shuffle(samples) #Shuffle Data \n",
    "        for x in range(0, len(samples), 128): #Batch with 128\n",
    "            batch = samples[x:x + 128]\n",
    "            images = []\n",
    "            measurements = []\n",
    "            for line in batch:\n",
    "                for i in range(3):\n",
    "                    source_path = line[i]\n",
    "                    filename = source_path.split('/')[-1]\n",
    "                    #print(filename)\n",
    "                    current_path = 'data/IMG/' + filename\n",
    "                    #print(current_path)\n",
    "                    #image = cv2.imread(current_path)\n",
    "                    image = cv2.imread(current_path)[:,:,::-1]  # Read image and convert from BGR to RGB\n",
    "                    images.append(image)\n",
    "                    if i == 0:\n",
    "                        measurement = float(line[3])\n",
    "                    elif i == 1:\n",
    "                        measurement = float(line[3]) + correction\n",
    "                    elif i == 2:\n",
    "                        measurement = float(line[3]) - correction\n",
    "                    measurements.append(measurement)\n",
    "                    #Add Augmented Images and Measurements\n",
    "                    images.append(cv2.flip(image, 1))\n",
    "                    measurements.append(measurement * -1.0)\n",
    "                \n",
    "            x_train = np.array(images)\n",
    "            y_train = np.array(measurements)\n",
    "            yield sklearn.utils.shuffle(x_train, y_train)\n",
    "\n",
    "#Lenth of Sampaly multilpy 3 für left write and center and then by 2 for fliped images\n",
    "sample_per_epoch = len(train_samples) * 3 * 2\n",
    "nb_val_sample = len(validation_samples) * 3 * 2\n",
    "\n",
    "#Generator for Training and Validation Data\n",
    "train_generator = generator(train_samples)\n",
    "validation_generator = generator(validation_samples)\n"
   ]
  },
  {
   "cell_type": "code",
   "execution_count": 3,
   "metadata": {},
   "outputs": [
    {
     "name": "stdout",
     "output_type": "stream",
     "text": [
      "Epoch 1/10\n",
      "55614/55614 [==============================] - 538s - loss: 0.0616 - val_loss: 0.0538\n",
      "Epoch 2/10\n",
      "55614/55614 [==============================] - 536s - loss: 0.0507 - val_loss: 0.0499\n",
      "Epoch 3/10\n",
      "55614/55614 [==============================] - 528s - loss: 0.0476 - val_loss: 0.0481\n",
      "Epoch 4/10\n",
      "55614/55614 [==============================] - 529s - loss: 0.0448 - val_loss: 0.0469\n",
      "Epoch 5/10\n",
      "55614/55614 [==============================] - 529s - loss: 0.0426 - val_loss: 0.0455\n",
      "Epoch 6/10\n",
      "55614/55614 [==============================] - 529s - loss: 0.0402 - val_loss: 0.0438\n",
      "Epoch 7/10\n",
      "55614/55614 [==============================] - 530s - loss: 0.0382 - val_loss: 0.0419\n",
      "Epoch 8/10\n",
      "55614/55614 [==============================] - 530s - loss: 0.0366 - val_loss: 0.0415\n",
      "Epoch 9/10\n",
      "55614/55614 [==============================] - 530s - loss: 0.0357 - val_loss: 0.0410\n",
      "Epoch 10/10\n",
      "55614/55614 [==============================] - 531s - loss: 0.0345 - val_loss: 0.0405\n"
     ]
    }
   ],
   "source": [
    "#Nvidia Model\n",
    "# https://devblogs.nvidia.com/parallelforall/deep-learning-self-driving-cars/\n",
    "\n",
    "\n",
    "model = Sequential()\n",
    "\n",
    "model.add(Lambda(lambda x: (x / 255.0) - 0.5, input_shape=(160,320,3)))\n",
    "model.add(Cropping2D(cropping=((70, 25), (1, 1))))\n",
    "model.add(Convolution2D(24,5,5, subsample=(2,2), activation=\"relu\"))\n",
    "model.add(Convolution2D(36,5,5, subsample=(2,2), activation=\"relu\"))\n",
    "model.add(Convolution2D(48,5,5, subsample=(2,2), activation=\"relu\"))\n",
    "model.add(Convolution2D(64,3,3, activation=\"relu\"))\n",
    "model.add(Convolution2D(64,3,3, activation=\"relu\"))\n",
    "model.add(Dropout(0.1)) #Added Dropout to prevent overfiting\n",
    "model.add(Flatten())\n",
    "model.add(Dense(100))\n",
    "model.add(Dense(50))\n",
    "model.add(Dense(10))\n",
    "model.add(Dense(1))\n",
    "\n",
    "model.compile(loss='mse', optimizer='adam')\n",
    "history = model.fit_generator(train_generator, samples_per_epoch=sample_per_epoch, validation_data=validation_generator, nb_val_samples=nb_val_sample, nb_epoch=10, verbose=1)\n",
    "\n",
    "model.save('model.h5')\n"
   ]
  },
  {
   "cell_type": "code",
   "execution_count": 4,
   "metadata": {},
   "outputs": [
    {
     "data": {
      "image/png": "[encoded data removed]",
      "text/plain": [
       "<matplotlib.figure.Figure at 0x11b0f7160>"
      ]
     },
     "metadata": {},
     "output_type": "display_data"
    }
   ],
   "source": [
    "# Output visualization\n",
    "plt.plot(history.history['loss'])\n",
    "plt.plot(history.history['val_loss'])\n",
    "plt.title('Model MSE loss')\n",
    "plt.ylabel('MSE loss')\n",
    "plt.xlabel('Epoch')\n",
    "plt.legend(['Training set', 'Validation set'], loc='upper right')\n",
    "plt.show()\n"
   ]
  },
  {
   "cell_type": "code",
   "execution_count": 5,
   "metadata": {},
   "outputs": [
    {
     "ename": "ImportError",
     "evalue": "Failed to import pydot. You must install pydot and graphviz for `pydotprint` to work.",
     "output_type": "error",
     "traceback": [
      "\u001b[0;31m---------------------------------------------------------------------------\u001b[0m",
      "\u001b[0;31mImportError\u001b[0m                               Traceback (most recent call last)",
      "\u001b[0;32m<ipython-input-5-d4d8f594ba24>\u001b[0m in \u001b[0;36m<module>\u001b[0;34m()\u001b[0m\n\u001b[1;32m      5\u001b[0m \u001b[0;34m\u001b[0m\u001b[0m\n\u001b[1;32m      6\u001b[0m \u001b[0;32mfrom\u001b[0m \u001b[0mIPython\u001b[0m\u001b[0;34m.\u001b[0m\u001b[0mdisplay\u001b[0m \u001b[0;32mimport\u001b[0m \u001b[0mImage\u001b[0m\u001b[0;34m,\u001b[0m \u001b[0mdisplay\u001b[0m\u001b[0;34m,\u001b[0m \u001b[0mSVG\u001b[0m\u001b[0;34m\u001b[0m\u001b[0m\n\u001b[0;32m----> 7\u001b[0;31m \u001b[0;32mfrom\u001b[0m \u001b[0mkeras\u001b[0m\u001b[0;34m.\u001b[0m\u001b[0mutils\u001b[0m\u001b[0;34m.\u001b[0m\u001b[0mvisualize_util\u001b[0m \u001b[0;32mimport\u001b[0m \u001b[0mmodel_to_dot\u001b[0m\u001b[0;34m\u001b[0m\u001b[0m\n\u001b[0m\u001b[1;32m      8\u001b[0m \u001b[0;34m\u001b[0m\u001b[0m\n\u001b[1;32m      9\u001b[0m \u001b[0;31m# Show the model in ipython notebook\u001b[0m\u001b[0;34m\u001b[0m\u001b[0;34m\u001b[0m\u001b[0m\n",
      "\u001b[0;32m/Users/Sameer/anaconda3/envs/carnd-term1/lib/python3.5/site-packages/keras/utils/visualize_util.py\u001b[0m in \u001b[0;36m<module>\u001b[0;34m()\u001b[0m\n\u001b[1;32m     12\u001b[0m     \u001b[0;32mimport\u001b[0m \u001b[0mpydot\u001b[0m\u001b[0;34m\u001b[0m\u001b[0m\n\u001b[1;32m     13\u001b[0m \u001b[0;32mif\u001b[0m \u001b[0;32mnot\u001b[0m \u001b[0mpydot\u001b[0m\u001b[0;34m.\u001b[0m\u001b[0mfind_graphviz\u001b[0m\u001b[0;34m(\u001b[0m\u001b[0;34m)\u001b[0m\u001b[0;34m:\u001b[0m\u001b[0;34m\u001b[0m\u001b[0m\n\u001b[0;32m---> 14\u001b[0;31m     raise ImportError('Failed to import pydot. You must install pydot'\n\u001b[0m\u001b[1;32m     15\u001b[0m                       ' and graphviz for `pydotprint` to work.')\n\u001b[1;32m     16\u001b[0m \u001b[0;34m\u001b[0m\u001b[0m\n",
      "\u001b[0;31mImportError\u001b[0m: Failed to import pydot. You must install pydot and graphviz for `pydotprint` to work."
     ]
    }
   ],
   "source": [
    "#Visualiation not working installed pydot and graphviz\n",
    "#ImportError: No module named 'keras.utils.dot_utils'\n",
    "#Failed to import pydot. You must install pydot and graphviz for `pydotprint` to work.\n",
    "\n",
    "\n",
    "from IPython.display import Image, display, SVG\n",
    "from keras.utils.visualize_util import model_to_dot\n",
    "\n",
    "# Show the model in ipython notebook\n",
    "figure = SVG(model_to_dot(model, show_shapes=True).create(prog='dot', format='svg'))\n",
    "display(figure)\n",
    "\n",
    "# Save the model as png file\n",
    "from keras.utils.visualize_util import plot\n",
    "plot(model, to_file='model.png', show_shapes=True)"
   ]
  },
  {
   "cell_type": "code",
   "execution_count": null,
   "metadata": {},
   "outputs": [],
   "source": []
  },
  {
   "cell_type": "code",
   "execution_count": null,
   "metadata": {},
   "outputs": [],
   "source": []
  },
  {
   "cell_type": "code",
   "execution_count": null,
   "metadata": {
    "collapsed": true
   },
   "outputs": [],
   "source": []
  }
 ],
 "metadata": {
  "kernelspec": {
   "display_name": "Python 3",
   "language": "python",
   "name": "python3"
  },
  "language_info": {
   "codemirror_mode": {
    "name": "ipython",
    "version": 3
   },
   "file_extension": ".py",
   "mimetype": "text/x-python",
   "name": "python",
   "nbconvert_exporter": "python",
   "pygments_lexer": "ipython3",
   "version": "3.5.2"
  },
  "widgets": {
   "state": {},
   "version": "1.1.2"
  }
 },
 "nbformat": 4,
 "nbformat_minor": 2
}
